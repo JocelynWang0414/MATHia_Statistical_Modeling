{
  "nbformat": 4,
  "nbformat_minor": 0,
  "metadata": {
    "colab": {
      "provenance": []
    },
    "kernelspec": {
      "name": "python3",
      "display_name": "Python 3"
    },
    "language_info": {
      "name": "python"
    }
  },
  "cells": [
    {
      "cell_type": "code",
      "source": [
        "import pandas as pd\n",
        "import numpy as np\n",
        "import os\n",
        "import glob\n",
        "from datetime import datetime\n",
        "import pytz\n",
        "from statsmodels.regression.mixed_linear_model import MixedLM\n",
        "import statsmodels.formula.api as smf\n",
        "import matplotlib.pyplot as plt\n",
        "import seaborn as sns\n",
        "from scipy.stats import pearsonr\n",
        "from sklearn.utils import resample\n",
        "\n",
        "import google.colab.drive\n",
        "google.colab.drive.mount('/content/drive')\n",
        "\n",
        "# Function to read and clean data\n",
        "def read_clean(file):\n",
        "    df = pd.read_csv(file)\n",
        "    # Clean column names (equivalent to janitor::clean_names)\n",
        "    df.columns = [col.lower().replace(' ', '_').replace('.', '_') for col in df.columns]\n",
        "    return df[['anon_student_id', 'time_3', 'detector_name', 'value']].rename(columns={'time_3': 'time'})"
      ],
      "metadata": {
        "id": "uVBYxrvPaf55",
        "colab": {
          "base_uri": "https://localhost:8080/"
        },
        "outputId": "14034a62-135e-44d7-e52e-a2a0ef392229"
      },
      "execution_count": null,
      "outputs": [
        {
          "output_type": "stream",
          "name": "stdout",
          "text": [
            "Mounted at /content/drive\n"
          ]
        }
      ]
    },
    {
      "cell_type": "markdown",
      "source": [
        "# Don't run"
      ],
      "metadata": {
        "id": "aGU-6XFtoeJw"
      }
    },
    {
      "cell_type": "code",
      "source": [
        "# Find all CSV files in directory\n",
        "files = glob.glob('/Desktop/LearnSphereDataMatch/*.csv')\n",
        "\n",
        "# Read and combine all files\n",
        "d_detector_list = []\n",
        "for f in files:\n",
        "    d_detector_list.append(read_clean(f))\n",
        "\n",
        "d_detector = pd.concat(d_detector_list, ignore_index=True)\n",
        "\n",
        "# Filter out rows where detector_name is 'False'\n",
        "d_detector = d_detector[d_detector['detector_name'] != 'False']\n",
        "\n",
        "# Recode values (naive recoding)\n",
        "d_detector['value'] = d_detector['value'].apply(lambda x: 0 if str(x).startswith('0') else 1)\n",
        "\n",
        "# Group by and pivot\n",
        "d_detector = d_detector.groupby(['anon_student_id', 'time', 'detector_name']).agg({'value': 'max'}).reset_index()\n",
        "d_detector = d_detector.pivot_table(index=['anon_student_id', 'time'],\n",
        "                                    columns='detector_name',\n",
        "                                    values='value',\n",
        "                                    fill_value=0).reset_index()\n",
        "\n",
        "# Parse time to datetime\n",
        "d_detector['time'] = pd.to_datetime(d_detector['time'], utc=True)\n",
        "d_detector['time'] = d_detector['time'].dt.tz_localize(None)  # Remove timezone info"
      ],
      "metadata": {
        "id": "Rvov0V32ag5k"
      },
      "execution_count": null,
      "outputs": []
    },
    {
      "cell_type": "markdown",
      "source": [
        "# Run This"
      ],
      "metadata": {
        "id": "1bk-k0uxohpD"
      }
    },
    {
      "cell_type": "code",
      "source": [
        "# Load main dataset\n",
        "\n",
        "# d = pd.read_csv('/content/drive/MyDrive/misuse_doingwell_struggle_idle_5_percentage_new_threshold.csv')\n",
        "d = pd.read_csv('/content/drive/MyDrive/five_detectors_data.csv')\n",
        "\n",
        "for row in range(len(d)):\n",
        "  d.at[row, 'Critical Struggle'] = 1 if d.at[row, 'Critical Struggle'][0] == '1' else 0\n",
        "  d.at[row, 'Struggle'] = 1 if d.at[row, 'Struggle'][0] == '1' else 0\n",
        "  d.at[row, 'Idle'] = 1 if d.at[row, 'Idle'][0] == '1' else 0\n",
        "\n",
        "d.columns = [col.lower().replace(' ', '_').replace('.', '_') for col in d.columns]\n",
        "d.columns"
      ],
      "metadata": {
        "colab": {
          "base_uri": "https://localhost:8080/"
        },
        "id": "LSw88RdHag9f",
        "outputId": "6ed6fad3-37ac-440c-c123-0ffd37ea7037"
      },
      "execution_count": null,
      "outputs": [
        {
          "output_type": "stream",
          "name": "stdout",
          "text": [
            "194917\n"
          ]
        }
      ]
    },
    {
      "cell_type": "code",
      "source": [
        "d['requested_help'] = np.where(d['help_level'] > 0, 1, 0)\n",
        "#d['got_help'] = np.where(d['helpedtransaction'], 1, 0)\n",
        "\n",
        "# Modeling setup\n",
        "mins_agg = \"20min\"\n",
        "\n",
        "# Round and group by time window\n",
        "#d_log = d[['anon_student_id', 'cf_class_id', 'time', 'requested_help', 'got_help']].copy()\n",
        "d_log = d[['anon_student_id', 'cf_class_id', 'time', 'requested_help']].copy()\n",
        "d_log['time'] = pd.to_datetime(d_log['time']).dt.round(mins_agg)\n",
        "\n",
        "# Group by and summarize\n",
        "d_log = d_log.groupby(['anon_student_id', 'cf_class_id', 'time']).agg({\n",
        "    'requested_help': lambda x: 1 if sum(x) > 0 else 0\n",
        "    #'got_help': lambda x: 1 if sum(x) > 0 else 0\n",
        "}).reset_index()"
      ],
      "metadata": {
        "id": "JTAP9oLqaoXf"
      },
      "execution_count": null,
      "outputs": []
    },
    {
      "cell_type": "code",
      "source": [
        "# Group detector data\n",
        "d_detector_join = d.groupby(['anon_student_id', 'time']).agg({\n",
        "    'critical_struggle': lambda x: 1 if sum(x) > 0 else 0,\n",
        "    'idle': lambda x: 1 if sum(x) > 0 else 0,\n",
        "    'system_misuse': lambda x: 1 if sum(x) > 0 else 0,\n",
        "    'struggle': lambda x: 1 if sum(x) > 0 else 0,\n",
        "    'student_doing_well': lambda x: 1 if sum(x) > 0 else 0\n",
        "}).reset_index()\n",
        "\n",
        "d_detector_join['time'] = pd.to_datetime(d_detector_join['time']).dt.round(mins_agg)\n",
        "\n",
        "\n",
        "print(d_detector_join['struggle'].value_counts())\n",
        "print(d_detector_join['student_doing_well'].value_counts())\n",
        "print(d_detector_join['idle'].value_counts())\n",
        "print(d_detector_join['system_misuse'].value_counts())\n",
        "print(d_detector_join['critical_struggle'].value_counts())"
      ],
      "metadata": {
        "colab": {
          "base_uri": "https://localhost:8080/"
        },
        "id": "7FR54V5YaogH",
        "outputId": "669f1108-6e5d-4c4d-f384-44d735a5b901"
      },
      "execution_count": null,
      "outputs": [
        {
          "output_type": "stream",
          "name": "stdout",
          "text": [
            "struggle\n",
            "0    131658\n",
            "1     40442\n",
            "Name: count, dtype: int64\n",
            "student_doing_well\n",
            "0    157552\n",
            "1     14548\n",
            "Name: count, dtype: int64\n",
            "idle\n",
            "0    170490\n",
            "1      1610\n",
            "Name: count, dtype: int64\n",
            "system_misuse\n",
            "0    166197\n",
            "1      5903\n",
            "Name: count, dtype: int64\n",
            "critical_struggle\n",
            "0    159431\n",
            "1     12669\n",
            "Name: count, dtype: int64\n"
          ]
        }
      ]
    },
    {
      "cell_type": "code",
      "source": [
        "d_model = pd.merge(d_log, d_detector_join, on=['anon_student_id', 'time'], how='left')\n",
        "d_model = d_model.fillna(0)"
      ],
      "metadata": {
        "id": "OCWSGbeLaolI"
      },
      "execution_count": null,
      "outputs": []
    },
    {
      "cell_type": "markdown",
      "source": [
        "# 1. Mixed Effects Models for Help-Seeking Behavior"
      ],
      "metadata": {
        "id": "23PTKHwbd3tB"
      }
    },
    {
      "cell_type": "code",
      "source": [
        "# Single factors\n",
        "formula = \"requested_help ~ struggle\"\n",
        "model = smf.mixedlm(formula, d_model, groups=d_model[\"anon_student_id\"], re_formula=\"~1\")\n",
        "result = model.fit()\n",
        "print(result.summary())\n",
        "\n",
        "formula = \"requested_help ~ critical_struggle\"\n",
        "model = smf.mixedlm(formula, d_model, groups=d_model[\"anon_student_id\"], re_formula=\"~1\")\n",
        "result = model.fit()\n",
        "print(result.summary())\n",
        "\n",
        "\n",
        "formula = \"requested_help ~ student_doing_well\"\n",
        "model = smf.mixedlm(formula, d_model, groups=d_model[\"anon_student_id\"], re_formula=\"~1\")\n",
        "result = model.fit()\n",
        "print(result.summary())\n",
        "\n",
        "formula = \"requested_help ~ system_misuse\"\n",
        "model = smf.mixedlm(formula, d_model, groups=d_model[\"anon_student_id\"], re_formula=\"~1\")\n",
        "result = model.fit()\n",
        "print(result.summary())\n",
        "\n",
        "formula = \"requested_help ~ idle\"\n",
        "model = smf.mixedlm(formula, d_model, groups=d_model[\"anon_student_id\"], re_formula=\"~1\")\n",
        "result = model.fit()\n",
        "print(result.summary())"
      ],
      "metadata": {
        "colab": {
          "base_uri": "https://localhost:8080/"
        },
        "id": "DrV8cxjapG56",
        "outputId": "10fa5b5a-760c-4459-e295-7bdf0dcdba15"
      },
      "execution_count": null,
      "outputs": [
        {
          "output_type": "stream",
          "name": "stdout",
          "text": [
            "           Mixed Linear Model Regression Results\n",
            "============================================================\n",
            "Model:            MixedLM Dependent Variable: requested_help\n",
            "No. Observations: 172100  Method:             REML          \n",
            "No. Groups:       310     Scale:              0.1497        \n",
            "Min. group size:  5       Log-Likelihood:     -81423.0693   \n",
            "Max. group size:  3144    Converged:          Yes           \n",
            "Mean group size:  555.2                                     \n",
            "-------------------------------------------------------------\n",
            "              Coef.  Std.Err.     z     P>|z|  [0.025  0.975]\n",
            "-------------------------------------------------------------\n",
            "Intercept     0.675     0.010   67.641  0.000   0.655   0.695\n",
            "struggle      0.240     0.002  102.523  0.000   0.235   0.244\n",
            "Group Var     0.030     0.007                                \n",
            "============================================================\n",
            "\n",
            "           Mixed Linear Model Regression Results\n",
            "============================================================\n",
            "Model:            MixedLM Dependent Variable: requested_help\n",
            "No. Observations: 172100  Method:             REML          \n",
            "No. Groups:       310     Scale:              0.1575        \n",
            "Min. group size:  5       Log-Likelihood:     -85853.8241   \n",
            "Max. group size:  3144    Converged:          Yes           \n",
            "Mean group size:  555.2                                     \n",
            "------------------------------------------------------------\n",
            "                   Coef. Std.Err.   z    P>|z| [0.025 0.975]\n",
            "------------------------------------------------------------\n",
            "Intercept          0.723    0.011 64.948 0.000  0.701  0.744\n",
            "critical_struggle  0.139    0.004 36.706 0.000  0.131  0.146\n",
            "Group Var          0.037    0.008                           \n",
            "============================================================\n",
            "\n",
            "            Mixed Linear Model Regression Results\n",
            "==============================================================\n",
            "Model:              MixedLM Dependent Variable: requested_help\n",
            "No. Observations:   172100  Method:             REML          \n",
            "No. Groups:         310     Scale:              0.1560        \n",
            "Min. group size:    5       Log-Likelihood:     -85021.7124   \n",
            "Max. group size:    3144    Converged:          Yes           \n",
            "Mean group size:    555.2                                     \n",
            "--------------------------------------------------------------\n",
            "                   Coef.  Std.Err.    z    P>|z| [0.025 0.975]\n",
            "--------------------------------------------------------------\n",
            "Intercept           0.745    0.011  67.146 0.000  0.723  0.766\n",
            "student_doing_well -0.195    0.004 -55.070 0.000 -0.202 -0.188\n",
            "Group Var           0.037    0.008                            \n",
            "==============================================================\n",
            "\n",
            "           Mixed Linear Model Regression Results\n",
            "============================================================\n",
            "Model:            MixedLM Dependent Variable: requested_help\n",
            "No. Observations: 172100  Method:             REML          \n",
            "No. Groups:       310     Scale:              0.1585        \n",
            "Min. group size:  5       Log-Likelihood:     -86394.8625   \n",
            "Max. group size:  3144    Converged:          Yes           \n",
            "Mean group size:  555.2                                     \n",
            "-------------------------------------------------------------\n",
            "               Coef.  Std.Err.    z     P>|z|  [0.025  0.975]\n",
            "-------------------------------------------------------------\n",
            "Intercept      0.731     0.011  64.195  0.000   0.709   0.753\n",
            "system_misuse  0.088     0.005  16.110  0.000   0.077   0.099\n",
            "Group Var      0.039     0.008                               \n",
            "============================================================\n",
            "\n",
            "           Mixed Linear Model Regression Results\n",
            "============================================================\n",
            "Model:            MixedLM Dependent Variable: requested_help\n",
            "No. Observations: 172100  Method:             REML          \n",
            "No. Groups:       310     Scale:              0.1588        \n",
            "Min. group size:  5       Log-Likelihood:     -86522.1529   \n",
            "Max. group size:  3144    Converged:          Yes           \n",
            "Mean group size:  555.2                                     \n",
            "-------------------------------------------------------------\n",
            "              Coef.   Std.Err.    z     P>|z|  [0.025  0.975]\n",
            "-------------------------------------------------------------\n",
            "Intercept      0.733     0.011  64.281  0.000   0.711   0.756\n",
            "idle          -0.019     0.010  -1.885  0.059  -0.039   0.001\n",
            "Group Var      0.039     0.008                               \n",
            "============================================================\n",
            "\n"
          ]
        }
      ]
    },
    {
      "cell_type": "code",
      "execution_count": null,
      "metadata": {
        "colab": {
          "base_uri": "https://localhost:8080/"
        },
        "id": "129mNoIwO7UY",
        "outputId": "6fc3478f-3837-48e4-dda7-abde6620bab3"
      },
      "outputs": [
        {
          "output_type": "stream",
          "name": "stderr",
          "text": [
            "/usr/local/lib/python3.11/dist-packages/statsmodels/base/model.py:607: ConvergenceWarning: Maximum Likelihood optimization failed to converge. Check mle_retvals\n",
            "  warnings.warn(\"Maximum Likelihood optimization failed to \"\n",
            "/usr/local/lib/python3.11/dist-packages/statsmodels/regression/mixed_linear_model.py:2200: ConvergenceWarning: Retrying MixedLM optimization with lbfgs\n",
            "  warnings.warn(\n"
          ]
        },
        {
          "output_type": "stream",
          "name": "stdout",
          "text": [
            "            Mixed Linear Model Regression Results\n",
            "==============================================================\n",
            "Model:              MixedLM Dependent Variable: requested_help\n",
            "No. Observations:   172100  Method:             REML          \n",
            "No. Groups:         310     Scale:              0.1478        \n",
            "Min. group size:    5       Log-Likelihood:     -80349.2144   \n",
            "Max. group size:    3144    Converged:          Yes           \n",
            "Mean group size:    555.2                                     \n",
            "--------------------------------------------------------------\n",
            "                   Coef.  Std.Err.    z    P>|z| [0.025 0.975]\n",
            "--------------------------------------------------------------\n",
            "Intercept           0.684    0.010  70.526 0.000  0.665  0.703\n",
            "system_misuse       0.015    0.005   2.788 0.005  0.004  0.026\n",
            "struggle            0.218    0.002  89.771 0.000  0.213  0.223\n",
            "critical_struggle   0.063    0.004  17.003 0.000  0.056  0.071\n",
            "student_doing_well -0.150    0.004 -42.706 0.000 -0.157 -0.143\n",
            "idle               -0.033    0.010  -3.416 0.001 -0.052 -0.014\n",
            "Group Var           0.028    0.006                            \n",
            "==============================================================\n",
            "\n"
          ]
        }
      ],
      "source": [
        "# Mixed Effects Modeling with statsmodels\n",
        "import statsmodels.formula.api as smf\n",
        "\n",
        "# Model 1 - Only with requested_help\n",
        "# formula1 = \"got_help ~ requested_help\"\n",
        "# model1 = smf.mixedlm(formula1, d_model, groups=d_model[\"anon_student_id\"], re_formula=\"~1\")\n",
        "# result1 = model1.fit()\n",
        "#print(result1.summary())\n",
        "\n",
        "# Model 2 - With requested_help and idle\n",
        "# formula2 = \"got_help ~ requested_help + idle\"\n",
        "# model2 = smf.mixedlm(formula2, d_model, groups=d_model[\"anon_student_id\"], re_formula=\"~1\")\n",
        "# result2 = model2.fit()\n",
        "#print(result2.summary())\n",
        "\n",
        "# Model 3 - With all predictors\n",
        "# formula3 = \"got_help ~ requested_help + idle + system_misuse + struggle + student_doing_well\"\n",
        "# model3 = smf.mixedlm(formula3, d_model, groups=d_model[\"anon_student_id\"], re_formula=\"~1\")\n",
        "# result3 = model3.fit()\n",
        "#print(result3.summary())\n",
        "\n",
        "# Model 4 - Predict requested_help\n",
        "formula4 = \"requested_help ~ system_misuse + struggle + critical_struggle + student_doing_well + idle\"\n",
        "model4 = smf.mixedlm(formula4, d_model, groups=d_model[\"anon_student_id\"], re_formula=\"~1\")\n",
        "result4 = model4.fit()\n",
        "print(result4.summary())"
      ]
    },
    {
      "cell_type": "markdown",
      "source": [
        "# 2. Identifying Challenge Moments"
      ],
      "metadata": {
        "id": "h7jSUltwd-fL"
      }
    },
    {
      "cell_type": "code",
      "source": [
        "# Load time reference data for challenge moments\n",
        "d_time_ref = pd.read_csv('final_filtered_test_file_15mins.csv')\n",
        "d_time_ref.columns = [col.lower().replace(' ', '_').replace('.', '_') for col in d_time_ref.columns]\n",
        "d_time_ref['time'] = pd.to_datetime(d_time_ref['time']).dt.round('1min')\n",
        "d_time_ref = d_time_ref[['cf_class_id', 'time']].drop_duplicates()\n",
        "d_time_ref['challenge_moment'] = True\n",
        "\n",
        "# Create challenge model dataset\n",
        "d_model_challenge = d_model.copy()\n",
        "d_model_challenge['time'] = pd.to_datetime(d_model_challenge['time']).dt.round('15min')\n",
        "d_model_challenge = pd.merge(d_model_challenge, d_time_ref, on=['cf_class_id', 'time'], how='left')\n",
        "d_model_challenge['challenge_moment'] = d_model_challenge['challenge_moment'].fillna(0).astype(int)"
      ],
      "metadata": {
        "id": "LQH_uyy1eAQP"
      },
      "execution_count": null,
      "outputs": []
    },
    {
      "cell_type": "markdown",
      "source": [
        "# 3. Mixed Effects Model with Challenge Moments Interactions and Relative Odds Ratio Model"
      ],
      "metadata": {
        "id": "PCol4skPeSBP"
      }
    },
    {
      "cell_type": "code",
      "source": [
        "# Model with interactions for challenge moments\n",
        "formula_challenge = \"\"\"got_help ~ requested_help*challenge_moment +\n",
        "                     idle*challenge_moment +\n",
        "                     system_misuse*challenge_moment +\n",
        "                     struggle*challenge_moment +\n",
        "                     student_doing_well*challenge_moment\"\"\"\n",
        "\n",
        "model_challenge = smf.mixedlm(formula_challenge, d_model_challenge,\n",
        "                             groups=d_model_challenge[\"anon_student_id\"],\n",
        "                             re_formula=\"~1\")\n",
        "result_challenge = model_challenge.fit()\n",
        "print(result_challenge.summary())\n",
        "\n",
        "# Relative Odds Ratio Model (only for idle and challenge)\n",
        "formula_ror = \"got_help ~ challenge_moment * idle\"\n",
        "model_ror = smf.mixedlm(formula_ror, d_model_challenge,\n",
        "                      groups=d_model_challenge[\"anon_student_id\"],\n",
        "                      re_formula=\"~1\")\n",
        "result_ror = model_ror.fit()\n",
        "\n",
        "# Calculate odds ratios and confidence intervals\n",
        "coefs = result_ror.params\n",
        "coef_ci = result_ror.conf_int()\n",
        "odds_ratios = np.exp(coefs)\n",
        "lower_CI = np.exp(coef_ci[0])\n",
        "upper_CI = np.exp(coef_ci[1])\n",
        "\n",
        "print(\"Odds Ratios:\")\n",
        "for term, odds_ratio, lower, upper in zip(odds_ratios.index, odds_ratios, lower_CI, upper_CI):\n",
        "    if term != 'Intercept' and term != 'Group Var':\n",
        "        print(f\"{term}: OR = {odds_ratio:.3f}, 95% CI [{lower:.3f}, {upper:.3f}]\")"
      ],
      "metadata": {
        "colab": {
          "base_uri": "https://localhost:8080/"
        },
        "id": "UpwDR1GceTKo",
        "outputId": "fe00fc09-fee0-44b7-e68e-136c24d93f6d",
        "collapsed": true
      },
      "execution_count": null,
      "outputs": [
        {
          "output_type": "error",
          "ename": "NameError",
          "evalue": "name 'd_model_challenge' is not defined",
          "traceback": [
            "\u001b[0;31m---------------------------------------------------------------------------\u001b[0m",
            "\u001b[0;31mNameError\u001b[0m                                 Traceback (most recent call last)",
            "\u001b[0;32m<ipython-input-20-46d9769e9069>\u001b[0m in \u001b[0;36m<cell line: 0>\u001b[0;34m()\u001b[0m\n\u001b[1;32m      6\u001b[0m                      student_doing_well*challenge_moment\"\"\"\n\u001b[1;32m      7\u001b[0m \u001b[0;34m\u001b[0m\u001b[0m\n\u001b[0;32m----> 8\u001b[0;31m model_challenge = smf.mixedlm(formula_challenge, d_model_challenge, \n\u001b[0m\u001b[1;32m      9\u001b[0m                              \u001b[0mgroups\u001b[0m\u001b[0;34m=\u001b[0m\u001b[0md_model_challenge\u001b[0m\u001b[0;34m[\u001b[0m\u001b[0;34m\"anon_student_id\"\u001b[0m\u001b[0;34m]\u001b[0m\u001b[0;34m,\u001b[0m\u001b[0;34m\u001b[0m\u001b[0;34m\u001b[0m\u001b[0m\n\u001b[1;32m     10\u001b[0m                              re_formula=\"~1\")\n",
            "\u001b[0;31mNameError\u001b[0m: name 'd_model_challenge' is not defined"
          ]
        }
      ]
    },
    {
      "cell_type": "markdown",
      "source": [
        "# 4. Relative Odds Ratio Model"
      ],
      "metadata": {
        "id": "b0kYVMkceV3z"
      }
    },
    {
      "cell_type": "code",
      "source": [
        "# By-class models (sparse data handling)\n",
        "def run_class_model(class_data):\n",
        "    if len(class_data) > 30:  # Minimum sample size check\n",
        "        try:\n",
        "            formula = \"got_help ~ requested_help + idle + system_misuse + struggle + student_doing_well\"\n",
        "            model = smf.mixedlm(formula, class_data, groups=class_data[\"anon_student_id\"], re_formula=\"~1\")\n",
        "            result = model.fit()\n",
        "\n",
        "            # Extract coefficients and standard errors\n",
        "            coefs = result.params\n",
        "            se = result.bse\n",
        "\n",
        "            # Create coefficient dataframe\n",
        "            coef_df = pd.DataFrame({\n",
        "                'term': coefs.index,\n",
        "                'estimate': coefs.values,\n",
        "                'std.error': se.values,\n",
        "                'cf_class_id': class_data['cf_class_id'].iloc[0]\n",
        "            })\n",
        "            return coef_df\n",
        "        except:\n",
        "            return None\n",
        "    return None\n",
        "\n",
        "# Run models by class\n",
        "class_dfs = []\n",
        "for class_id, class_data in d_model.groupby('cf_class_id'):\n",
        "    coef_df = run_class_model(class_data)\n",
        "    if coef_df is not None:\n",
        "        class_dfs.append(coef_df)\n",
        "\n",
        "if class_dfs:\n",
        "    class_coefs = pd.concat(class_dfs, ignore_index=True)\n",
        "    # Filter out intercepts and high standard errors\n",
        "    class_coefs = class_coefs[(class_coefs['term'] != 'Intercept') & (class_coefs['std.error'] < 50)]\n",
        "\n",
        "    # Plot coefficients by class\n",
        "    plt.figure(figsize=(12, 8))\n",
        "    ax = sns.pointplot(x='term', y='estimate', hue='cf_class_id', data=class_coefs, dodge=0.5)\n",
        "\n",
        "    # Add error bars\n",
        "    for i, row in class_coefs.iterrows():\n",
        "        plt.errorbar(x=row['term'], y=row['estimate'],\n",
        "                     yerr=row['std.error'],\n",
        "                     color=sns.color_palette()[i % 10])  # Cycle through colors\n",
        "\n",
        "    plt.xticks(rotation=45, ha='right')\n",
        "    plt.title('Coefficient Estimates by Class')\n",
        "    plt.tight_layout()\n",
        "    plt.show()"
      ],
      "metadata": {
        "id": "A9eQgjw3eaHo"
      },
      "execution_count": null,
      "outputs": []
    },
    {
      "cell_type": "markdown",
      "source": [
        "# 5. Extract random effects"
      ],
      "metadata": {
        "id": "3t3Z3aB-fQtA"
      }
    },
    {
      "cell_type": "code",
      "source": [
        "# Extract random effects\n",
        "random_effects = result3.random_effects\n",
        "d_ranef = pd.DataFrame([{'anon_student_id': k, 'intercept': v[0]}\n",
        "                       for k, v in random_effects.items()])\n",
        "\n",
        "# Load AFM data\n",
        "d_afm = d[d['attempt_at_step'] == 1].copy()\n",
        "d_afm = d_afm.dropna(subset=['kc_model_mat_hia'])\n",
        "d_afm = d_afm.sort_values(['anon_student_id', 'time'])\n",
        "d_afm = d_afm[['anon_student_id', 'kc_model_mat_hia', 'outcome']].rename(columns={'kc_model_mat_hia': 'kc'})\n",
        "d_afm['outcome'] = np.where(d_afm['outcome'] == 'OK', 1, 0)\n",
        "\n",
        "# Create opportunity counts\n",
        "d_afm['opportunity'] = d_afm.groupby(['anon_student_id', 'kc']).cumcount() + 1\n",
        "\n",
        "# Load pre-computed AFM random effects (instead of re-computing)\n",
        "d_join_iafm = pd.read_pickle('iafm_ranef.rds')  # Assuming we saved this previously\n",
        "d_join_iafm = pd.DataFrame([{'anon_student_id': k, 'initial_prof': v[0], 'opportunity': v[1]}\n",
        "                          for k, v in d_join_iafm.items()])\n",
        "\n",
        "# Join random effects\n",
        "d_corr = pd.merge(d_ranef, d_join_iafm, on='anon_student_id')\n",
        "\n",
        "# Compute correlations\n",
        "corr_initial, p_initial = pearsonr(d_corr['intercept'], d_corr['initial_prof'])\n",
        "corr_opp, p_opp = pearsonr(d_corr['intercept'], d_corr['opportunity'])\n",
        "\n",
        "print(f\"Correlation with initial proficiency: r = {corr_initial:.3f}, p = {p_initial:.3f}\")\n",
        "print(f\"Correlation with opportunity: r = {corr_opp:.3f}, p = {p_opp:.3f}\")\n",
        "\n",
        "# Individual odds ratio calculations with bootstrap\n",
        "def calculate_odds_ratio(data, var1, var2):\n",
        "    # Create contingency table\n",
        "    table = pd.crosstab(data[var1], data[var2])\n",
        "    # Calculate odds ratio: (a*d)/(b*c)\n",
        "    try:\n",
        "        odds_ratio = (table.iloc[1, 1] * table.iloc[0, 0]) / (table.iloc[0, 1] * table.iloc[1, 0])\n",
        "        return odds_ratio\n",
        "    except:\n",
        "        return np.nan"
      ],
      "metadata": {
        "id": "r064VfvDfRfN"
      },
      "execution_count": null,
      "outputs": []
    },
    {
      "cell_type": "markdown",
      "source": [
        "# 6. Bootstrap confidence intervals for requested_help"
      ],
      "metadata": {
        "id": "iSqJQ1yWe4Xk"
      }
    },
    {
      "cell_type": "code",
      "source": [
        "# Bootstrap confidence intervals for requested_help\n",
        "samples_requested = []\n",
        "for _ in range(1000):\n",
        "    d_model_resampled = resample(d_model)\n",
        "    or_value = calculate_odds_ratio(d_model_resampled, 'got_help', 'requested_help')\n",
        "    samples_requested.append(or_value)\n",
        "\n",
        "ci_requested = np.percentile(samples_requested, [2.5, 50, 97.5])\n",
        "print(f\"Odds Ratio for requested_help: {ci_requested[1]:.3f} (95% CI: {ci_requested[0]:.3f}-{ci_requested[2]:.3f})\")\n",
        "\n",
        "# Bootstrap for idle\n",
        "samples_idle = []\n",
        "for _ in range(1000):\n",
        "    d_model_resampled = resample(d_model)\n",
        "    or_value = calculate_odds_ratio(d_model_resampled, 'got_help', 'idle')\n",
        "    samples_idle.append(or_value)\n",
        "\n",
        "ci_idle = np.percentile(samples_idle, [2.5, 50, 97.5])\n",
        "print(f\"Odds Ratio for idle: {ci_idle[1]:.3f} (95% CI: {ci_idle[0]:.3f}-{ci_idle[2]:.3f})\")\n",
        "\n",
        "# Bootstrap for system_misuse\n",
        "samples_misuse = []\n",
        "for _ in range(1000):\n",
        "    d_model_resampled = resample(d_model)\n",
        "    or_value = calculate_odds_ratio(d_model_resampled, 'got_help', 'system_misuse')\n",
        "    samples_misuse.append(or_value)\n",
        "\n",
        "ci_misuse = np.percentile(samples_misuse, [2.5, 50, 97.5])\n",
        "print(f\"Odds Ratio for system_misuse: {ci_misuse[1]:.3f} (95% CI: {ci_misuse[0]:.3f}-{ci_misuse[2]:.3f})\")\n",
        "\n",
        "# Bootstrap for struggle\n",
        "samples_struggle = []\n",
        "for _ in range(1000):\n",
        "    d_model_resampled = resample(d_model)\n",
        "    or_value = calculate_odds_ratio(d_model_resampled, 'got_help', 'struggle')\n",
        "    samples_struggle.append(or_value)\n",
        "\n",
        "ci_struggle = np.percentile(samples_struggle, [2.5, 50, 97.5])\n",
        "print(f\"Odds Ratio for struggle: {ci_struggle[1]:.3f} (95% CI: {ci_struggle[0]:.3f}-{ci_struggle[2]:.3f})\")\n",
        "\n",
        "# Bootstrap for student_doing_well\n",
        "samples_doing_well = []\n",
        "for _ in range(1000):\n",
        "    d_model_resampled = resample(d_model)\n",
        "    or_value = calculate_odds_ratio(d_model_resampled, 'got_help', 'student_doing_well')\n",
        "    samples_doing_well.append(or_value)\n",
        "\n",
        "ci_doing_well = np.percentile(samples_doing_well, [2.5, 50, 97.5])\n",
        "print(f\"Odds Ratio for student_doing_well: {ci_doing_well[1]:.3f} (95% CI: {ci_doing_well[0]:.3f}-{ci_doing_well[2]:.3f})\")"
      ],
      "metadata": {
        "id": "4rVZ-nyKe4zs"
      },
      "execution_count": null,
      "outputs": []
    }
  ]
}