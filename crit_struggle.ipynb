{
 "cells": [
  {
   "cell_type": "code",
   "execution_count": 1,
   "metadata": {},
   "outputs": [
    {
     "data": {
      "text/plain": [
       "'new_test-critical-struggle.csv'"
      ]
     },
     "execution_count": 1,
     "metadata": {},
     "output_type": "execute_result"
    }
   ],
   "source": [
    "import pandas as pd\n",
    "\n",
    "# Load the CSV file\n",
    "csv_file_path = 'new_test.csv'\n",
    "df = pd.read_csv(csv_file_path)\n",
    "\n",
    "# Define the BKT parameters\n",
    "BKTparams = {\n",
    "    \"p_transit\": 0.2,\n",
    "    \"p_slip\": 0.1,\n",
    "    \"p_guess\": 0.2,\n",
    "    \"p_know\": 0.25  # Initial knowledge probability\n",
    "}\n",
    "\n",
    "# Function to update p_know using BKT\n",
    "def update_p_know(p_know_tminus1, outcome, BKTparams):\n",
    "    p_slip = BKTparams[\"p_slip\"]\n",
    "    p_guess = BKTparams[\"p_guess\"]\n",
    "    p_transit = BKTparams[\"p_transit\"]\n",
    "\n",
    "    if outcome.lower() == \"correct\":\n",
    "        p_know_given_obs = (p_know_tminus1 * (1 - p_slip)) / ((p_know_tminus1 * (1 - p_slip)) + ((1 - p_know_tminus1) * p_guess))\n",
    "    else:\n",
    "        p_know_given_obs = (p_know_tminus1 * p_slip) / ((p_know_tminus1 * p_slip) + ((1 - p_know_tminus1) * (1 - p_guess)))\n",
    "\n",
    "    # Update p_know and apply the transition\n",
    "    p_know = p_know_given_obs + (1 - p_know_given_obs) * p_transit\n",
    "    return round(p_know, 2)  # Round to 2 decimal places\n",
    "\n",
    "# Define function to calculate \"Critical Struggle\" based on the criteria provided\n",
    "def calculate_struggle_status(df):\n",
    "    struggle_status = []\n",
    "    \n",
    "    # Define thresholds for struggle (based on previous data and conditions)\n",
    "    error_threshold = 6  # error count threshold, can adjust as needed\n",
    "    attempt_threshold = 10  # attempt threshold, can adjust as needed\n",
    "    mastery_threshold = 0.8  # mastery level threshold, can adjust as needed\n",
    "    \n",
    "    onboardSkills = {}  # Store the student's skill knowledge levels\n",
    "\n",
    "    for i in range(len(df)):\n",
    "        prev_p_know = df['CF (Skill Previous p-Known)'].iloc[i]\n",
    "        new_p_know = df['CF (Skill New p-Known)'].iloc[i]\n",
    "        attempts = df['Attempt At Step'].iloc[i]\n",
    "        outcome = df['Outcome'].iloc[i]  #'Outcome' column has correct/incorrect actions\n",
    "        \n",
    "        # Check if this skill has been encountered previously\n",
    "        skill_name = df['Problem Name'].iloc[i]  # Example column to identify skills\n",
    "        if skill_name not in onboardSkills:\n",
    "            onboardSkills[skill_name] = BKTparams[\"p_know\"]  # Initialize with the default p_know\n",
    "\n",
    "        # Update p_know based on BKT\n",
    "        updated_p_know = update_p_know(onboardSkills[skill_name], outcome, BKTparams)\n",
    "        onboardSkills[skill_name] = updated_p_know  # Update the skill's p_know\n",
    "\n",
    "        # If proficiency is below threshold and attempts are high, consider it as a struggle\n",
    "        if (updated_p_know < mastery_threshold or new_p_know < mastery_threshold) and attempts >= attempt_threshold:\n",
    "            struggle_status.append(True)\n",
    "        else:\n",
    "            struggle_status.append(False)\n",
    "    \n",
    "    return struggle_status\n",
    "\n",
    "# Apply the function to calculate struggle status\n",
    "df['Critical Struggle'] = calculate_struggle_status(df)\n",
    "\n",
    "# Save the modified dataframe with the new 'Critical Struggle' column to a new CSV file\n",
    "output_file_path = 'new_test-critical-struggle.csv'\n",
    "df.to_csv(output_file_path, index=False)\n",
    "\n",
    "output_file_path  # Return the path to the new file\n"
   ]
  }
 ],
 "metadata": {
  "kernelspec": {
   "display_name": ".venv",
   "language": "python",
   "name": "python3"
  },
  "language_info": {
   "codemirror_mode": {
    "name": "ipython",
    "version": 3
   },
   "file_extension": ".py",
   "mimetype": "text/x-python",
   "name": "python",
   "nbconvert_exporter": "python",
   "pygments_lexer": "ipython3",
   "version": "3.13.1"
  }
 },
 "nbformat": 4,
 "nbformat_minor": 2
}
